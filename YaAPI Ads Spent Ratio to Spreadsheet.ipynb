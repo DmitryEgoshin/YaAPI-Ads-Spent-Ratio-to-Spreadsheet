{
 "cells": [
  {
   "cell_type": "code",
   "execution_count": 1,
   "metadata": {},
   "outputs": [],
   "source": [
    "import requests\n",
    "from requests.exceptions import ConnectionError\n",
    "from time import sleep\n",
    "import json\n",
    "import pandas as pd\n",
    "import numpy as np\n",
    "from pandas import Series, DataFrame\n",
    "from pprint import pprint\n",
    "from openpyxl import load_workbook\n",
    "from openpyxl import Workbook\n",
    "from pprint import pprint\n",
    "from datetime import date, timedelta, datetime\n",
    "from time import time\n",
    "import sys"
   ]
  },
  {
   "cell_type": "code",
   "execution_count": 2,
   "metadata": {},
   "outputs": [],
   "source": [
    "import httplib2\n",
    "import argparse\n",
    "from apiclient import discovery\n",
    "from oauth2client import client\n",
    "from oauth2client import tools\n",
    "from oauth2client.file import Storage\n",
    "import gspread\n",
    "from oauth2client.service_account import ServiceAccountCredentials"
   ]
  },
  {
   "cell_type": "markdown",
   "metadata": {},
   "source": [
    "#### Google Sheets API auth"
   ]
  },
  {
   "cell_type": "code",
   "execution_count": 3,
   "metadata": {},
   "outputs": [],
   "source": [
    "SCOPES = 'https://www.googleapis.com/auth/spreadsheets'\n",
    "CLIENT_SECRET_FILE = 'sheets-client-secret-grants.json'\n",
    "APPLICATION_NAME = 'Google Sheets API Report'\n",
    "\n",
    "credential_path = 'sheets.googleapis.com-report.json'\n",
    "\n",
    "store = Storage(credential_path)\n",
    "credentials = store.get()\n",
    "parser = argparse.ArgumentParser(formatter_class=argparse.RawDescriptionHelpFormatter, \n",
    "                                 parents=[tools.argparser])\n",
    "flags = parser.parse_args([])\n",
    "\n",
    "if not credentials or credentials.invalid:\n",
    "    flow = client.flow_from_clientsecrets(r'.../sheets-client-secret-grants.json', \n",
    "                                          SCOPES)\n",
    "    flow.user_agent = APPLICATION_NAME\n",
    "    if flags:\n",
    "        credentials = tools.run_flow(flow, store,flags)\n",
    "    print('Storing credentials to ' + credential_path)"
   ]
  },
  {
   "cell_type": "markdown",
   "metadata": {},
   "source": [
    "#### Google Sheets services"
   ]
  },
  {
   "cell_type": "code",
   "execution_count": 4,
   "metadata": {},
   "outputs": [],
   "source": [
    "http = credentials.authorize(httplib2.Http())\n",
    "discoveryUrl = ('https://sheets.googleapis.com/$discovery/rest?version=v4')\n",
    "service = discovery.build('sheets', 'v4', http = http, discoveryServiceUrl=discoveryUrl)"
   ]
  },
  {
   "cell_type": "code",
   "execution_count": 5,
   "metadata": {},
   "outputs": [],
   "source": [
    "token = '...'\n",
    "\n",
    "spreadsheet_id = '1eVfRLLTEfUfTlJrnXZYZfRSiWZYWtOQ7A4sUO68PMvg' # spreadsheet id"
   ]
  },
  {
   "cell_type": "code",
   "execution_count": 6,
   "metadata": {},
   "outputs": [
    {
     "name": "stdout",
     "output_type": "stream",
     "text": [
      "Отчет для аккаунта zlatapechkaru создан успешно\n",
      "RequestId: 4603484569976803120\n",
      "Отчет для аккаунта nakolesahmira создан успешно\n",
      "RequestId: 4603485446334607023\n",
      "Отчет для аккаунта sterlingcooper создан успешно\n",
      "RequestId: 4603486332142509837\n",
      "Отчет для аккаунта advantagroupru создан успешно\n",
      "RequestId: 4603487221225820769\n",
      "Отчет для аккаунта fanburg создан успешно\n",
      "RequestId: 4603488161835214491\n",
      "Отчет для аккаунта zapovednik-zapovednik создан успешно\n",
      "RequestId: 4603489043813669006\n",
      "Отчет для аккаунта nakolesahmira-farkopy создан успешно\n",
      "RequestId: 4603489755032428760\n",
      "Отчет для аккаунта nakolesahmira-gruzovie-shiny создан успешно\n",
      "RequestId: 4603490723418991720\n",
      "Отчет для аккаунта promoshift-trusishka создан успешно\n",
      "RequestId: 4603491474831106019\n",
      "Отчет для аккаунта zapovednik-tyumen создан успешно\n",
      "RequestId: 4603492431304079670\n",
      "Отчет для аккаунта b-bestwatch создан успешно\n",
      "RequestId: 4603493611419084256\n",
      "Отчет для аккаунта c-csoft создан успешно\n",
      "RequestId: 4603494139749407616\n",
      "Отчет для аккаунта buyusa-promoshift создан успешно\n",
      "RequestId: 4603494963866221798\n",
      "Отчет для аккаунта knopka-promo создан успешно\n",
      "RequestId: 4603495592427185212\n",
      "Отчет для аккаунта spinstrument-promo создан успешно\n",
      "RequestId: 4603496524075870613\n",
      "Отчет для аккаунта laufenn-tyres-ekb создан успешно\n",
      "RequestId: 4603497127583486744\n",
      "Отчет для аккаунта kama-tyres-ekb создан успешно\n",
      "RequestId: 4603498112946295608\n",
      "Отчет для аккаунта glazachetire создан успешно\n",
      "RequestId: 4603498866558335452\n",
      "Отчет для аккаунта gigantdverinovosibirsk создан успешно\n",
      "RequestId: 4603499698552220190\n",
      "Отчет для аккаунта zelenogradgigantdveri создан успешно\n",
      "RequestId: 4603500560515480345\n",
      "Отчет для аккаунта zapovednik-perm создан успешно\n",
      "RequestId: 4603501704830566811\n",
      "Отчет для аккаунта zapovednik-s-peterburg создан успешно\n",
      "RequestId: 4603502724739544516\n",
      "Отчет для аккаунта gigantdveribarnaul создан успешно\n",
      "RequestId: 4603503541889361856\n",
      "Отчет для аккаунта tochka-b21 создан успешно\n",
      "RequestId: 4603504449926147457\n",
      "Отчет для аккаунта funburg-msk создан успешно\n",
      "RequestId: 4603505418558573616\n",
      "Отчет для аккаунта anster-promoshift создан успешно\n",
      "RequestId: 4603506080161650786\n",
      "Отчет для аккаунта st-svarka-ru создан успешно\n",
      "RequestId: 4603506564909201991\n",
      "Отчет для аккаунта zapovednik-omsk-new создан успешно\n",
      "RequestId: 4603507210151733256\n",
      "Отчет для аккаунта zhk-skazy-promoshift создан успешно\n",
      "RequestId: 4603508920910424433\n",
      "Отчет для аккаунта gigantdveriekaterinburg создан успешно\n",
      "RequestId: 4603509604986011517\n",
      "Отчет для аккаунта gigantdverityumen создан успешно\n",
      "RequestId: 4603510263408251125\n",
      "Отчет для аккаунта bridgestone-tyres-ekb создан успешно\n",
      "RequestId: 4603510890286331803\n",
      "Отчет для аккаунта hankook-tyres-ekb создан успешно\n",
      "RequestId: 4603511643796634602\n",
      "Создание отчетов для аккаунтов завершено\n"
     ]
    },
    {
     "data": {
      "text/plain": [
       "'# Создание и запись файла\\nfilename = \"AccountsPerfomanceReport_{}.csv\".format(str(time()))\\nresultfile = open(filename, \\'w+\\')\\nresultfile.write(resultcsv)\\nresultfile.close()\\n\\nprint(\"Результат записан в файл {}\".format(filename))'"
      ]
     },
     "execution_count": 6,
     "metadata": {},
     "output_type": "execute_result"
    }
   ],
   "source": [
    "if sys.version_info < (3,):\n",
    "    def u(x):\n",
    "        try:\n",
    "            return x.encode(\"utf8\")\n",
    "        except UnicodeDecodeError:\n",
    "            return x\n",
    "else:\n",
    "    def u(x):\n",
    "        if isinstance(x, bytes):\n",
    "            return x.decode('utf8')\n",
    "        else:\n",
    "            return x\n",
    "\n",
    "# input\n",
    "AgencyClientsURL = 'https://api.direct.yandex.com/json/v5/agencyclients'\n",
    "\n",
    "ReportsURL = 'https://api.direct.yandex.com/json/v5/reports'\n",
    "\n",
    "# OAuth\n",
    "token = token\n",
    "\n",
    "# AgencyClients\n",
    "headers = {\n",
    "           # OAuth-токен\n",
    "           \"Authorization\": \"Bearer \" + token,\n",
    "           \"Accept-Language\": \"ru\"\n",
    "           }\n",
    "\n",
    "AgencyClientsBody = {\n",
    "    \"method\": \"get\",\n",
    "    \"params\": {\n",
    "        \"SelectionCriteria\": {\n",
    "            \"Archived\": \"NO\"   # active clients only: no\n",
    "        },\n",
    "        \"FieldNames\": [\"Login\"],\n",
    "        \"Page\": {\n",
    "            \"Limit\": 10000,\n",
    "            \"Offset\": 0\n",
    "        }\n",
    "    }\n",
    "}\n",
    "\n",
    "# AgencyClients output\n",
    "HasAllClientLoginsReceived = False\n",
    "ClientList = []\n",
    "\n",
    "while not HasAllClientLoginsReceived:\n",
    "    ClientsResult = requests.post(AgencyClientsURL, json.dumps(AgencyClientsBody), headers=headers).json()\n",
    "    for Client in ClientsResult['result']['Clients']:\n",
    "        ClientList.append(Client[\"Login\"])\n",
    "    if ClientsResult['result'].get(\"LimitedBy\", False):\n",
    "        AgencyClientsBody['Page']['Offset'] = ClientsResult['result'][\"LimitedBy\"]\n",
    "    else:\n",
    "        HasAllClientLoginsReceived = True\n",
    "\n",
    "# Reports input\n",
    "body = {\n",
    "    \"params\": {\n",
    "        \"SelectionCriteria\": {},\n",
    "        \"FieldNames\": [\n",
    "            \"Impressions\",\n",
    "            \"Clicks\",\n",
    "            \"Cost\"\n",
    "        ],\n",
    "        \"ReportName\": u(\"ACCOUNT_PERFORMANCE\"),\n",
    "        \"ReportType\": \"ACCOUNT_PERFORMANCE_REPORT\",\n",
    "        \"DateRangeType\": \"THIS_MONTH\", # 'AUTO', 'THIS_MONTH', 'LAST_MONTH' or 'CUSTOM_DATE'\n",
    "        \"Format\": \"TSV\",\n",
    "        \"IncludeVAT\": \"NO\", # NDS\n",
    "        \"IncludeDiscount\": \"NO\"\n",
    "    }\n",
    "}\n",
    "\n",
    "# result data\n",
    "resultcsv = \"Login;Impressions;Clicks;Costs\\n\"\n",
    "\n",
    "# headers\n",
    "headers['skipReportHeader'] = \"true\"\n",
    "headers['skipColumnHeader'] = \"true\"\n",
    "headers['skipReportSummary'] = \"true\"\n",
    "headers['returnMoneyInMicros'] = \"false\"\n",
    "\n",
    "# Reports output\n",
    "for Client in ClientList:\n",
    "    headers['Client-Login'] = Client\n",
    "    requestBody = json.dumps(body, indent=4)\n",
    "    \n",
    "    while True:\n",
    "        try:\n",
    "            req = requests.post(ReportsURL, requestBody, headers=headers)\n",
    "            req.encoding = 'utf-8'\n",
    "            if req.status_code == 400:\n",
    "                print(\"Параметры запроса указаны неверно или достугнут лимит отчетов в очереди\")\n",
    "                print(\"RequestId: {}\".format(req.headers.get(\"RequestId\", False)))\n",
    "                print(\"JSON-код запроса: {}\".format(u(body)))\n",
    "                print(\"JSON-код ответа сервера: \\n{}\".format(u(req.json())))\n",
    "                break\n",
    "            elif req.status_code == 200:\n",
    "                print(\"Отчет для аккаунта {} создан успешно\".format(str(Client)))\n",
    "                print(\"RequestId: {}\".format(req.headers.get(\"RequestId\", False)))\n",
    "                if req.text != \"\":\n",
    "                    tempresult = req.text.split('\\t')\n",
    "                    resultcsv += \"{};{};{};{}\\n\".format(Client, tempresult[0], tempresult[1], str(tempresult[2]).replace('.', ','))\n",
    "                else:\n",
    "                    resultcsv += \"{};0;0;0\\n\".format(Client)\n",
    "                break\n",
    "            elif req.status_code == 201:\n",
    "                print(\"Отчет для аккаунта {} успешно поставлен в очередь в режиме offline\".format(str(Client)))\n",
    "                retryIn = int(req.headers.get(\"retryIn\", 60))\n",
    "                print(\"Повторная отправка запроса через {} секунд\".format(retryIn))\n",
    "                print(\"RequestId: {}\".format(req.headers.get(\"RequestId\", False)))\n",
    "                sleep(retryIn)\n",
    "            elif req.status_code == 202:\n",
    "                print(\"Отчет формируется в режиме офлайн\".format(str(Client)))\n",
    "                retryIn = int(req.headers.get(\"retryIn\", 60))\n",
    "                print(\"Повторная отправка запроса через {} секунд\".format(retryIn))\n",
    "                print(\"RequestId: {}\".format(req.headers.get(\"RequestId\", False)))\n",
    "                sleep(retryIn)\n",
    "            elif req.status_code == 500:\n",
    "                print(\"При формировании отчета произошла ошибка. Пожалуйста, попробуйте повторить запрос позднее.\")\n",
    "                print(\"RequestId: {}\".format(req.headers.get(\"RequestId\", False)))\n",
    "                print(\"JSON-код ответа сервера: \\n{}\".format(u(req.json())))\n",
    "                break\n",
    "            elif req.status_code == 502:\n",
    "                print(\"Время формирования отчета превысило серверное ограничение.\")\n",
    "                print(\n",
    "                    \"Пожалуйста, попробуйте изменить параметры запроса - уменьшить период и количество запрашиваемых данных.\")\n",
    "                print(\"JSON-код запроса: {}\".format(body))\n",
    "                print(\"RequestId: {}\".format(req.headers.get(\"RequestId\", False)))\n",
    "                print(\"JSON-код ответа сервера: \\n{}\".format(u(req.json())))\n",
    "                break\n",
    "            else:\n",
    "                print(\"Произошла непредвиденная ошибка\")\n",
    "                print(\"RequestId: {}\".format(req.headers.get(\"RequestId\", False)))\n",
    "                print(\"JSON-код запроса: {}\".format(body))\n",
    "                print(\"JSON-код ответа сервера: \\n{}\".format(u(req.json())))\n",
    "                break\n",
    "\n",
    "        except ConnectionError:\n",
    "            print(\"Произошла ошибка соединения с сервером API\")\n",
    "            break\n",
    "\n",
    "        except:\n",
    "            print(\"Произошла непредвиденная ошибка\")\n",
    "            break\n",
    "\n",
    "print(\"Создание отчетов для аккаунтов завершено\")\n",
    "\n",
    "\"\"\"# Создание и запись файла\n",
    "filename = \"AccountsPerfomanceReport_{}.csv\".format(str(time()))\n",
    "resultfile = open(filename, 'w+')\n",
    "resultfile.write(resultcsv)\n",
    "resultfile.close()\n",
    "\n",
    "print(\"Результат записан в файл {}\".format(filename))\"\"\""
   ]
  },
  {
   "cell_type": "markdown",
   "metadata": {},
   "source": [
    "#### Date generation"
   ]
  },
  {
   "cell_type": "code",
   "execution_count": 7,
   "metadata": {},
   "outputs": [],
   "source": [
    "month = str(datetime.now().month)\n",
    "\n",
    "if datetime.now().month < 10: # Для месяцев, порядковый номер меньше 10 добавляем \"ноль\" для корректного отображения\n",
    "    month = '-0' + month\n",
    "else:\n",
    "    month = '-' + month\n",
    "    \n",
    "start_date = str(datetime.now().year) + month + '-01'\n",
    "end_date = datetime.today().strftime('%Y-%m-%d')"
   ]
  },
  {
   "cell_type": "code",
   "execution_count": 9,
   "metadata": {},
   "outputs": [
    {
     "data": {
      "text/plain": [
       "['2023-01-01', '2023-01-12', 'Login', 'Clicks', 'Costs']"
      ]
     },
     "execution_count": 9,
     "metadata": {},
     "output_type": "execute_result"
    }
   ],
   "source": [
    "result = []\n",
    "\n",
    "for i in resultcsv.split():\n",
    "    result.append(i.split(';'))\n",
    "\n",
    "for i in result:\n",
    "    i.insert(0, start_date)\n",
    "    i.insert(1, end_date)\n",
    "    i.pop(3)\n",
    "\n",
    "result.pop(0)"
   ]
  },
  {
   "cell_type": "markdown",
   "metadata": {},
   "source": [
    "#### Data to the spreadsheet"
   ]
  },
  {
   "cell_type": "code",
   "execution_count": 10,
   "metadata": {},
   "outputs": [],
   "source": [
    "body = {'values': result}"
   ]
  },
  {
   "cell_type": "code",
   "execution_count": 12,
   "metadata": {},
   "outputs": [
    {
     "name": "stdout",
     "output_type": "stream",
     "text": [
      "https://docs.google.com/spreadsheets/d/1eVfRLLTEfUfTlJrnXZYZfRSiWZYWtOQ7A4sUO68PMvg/edit#gid=0\n",
      "Google Data Studio report template: https://datastudio.google.com/reporting/a1cbd283-a91a-45b2-bc91-b6d17fe88d5a\n"
     ]
    }
   ],
   "source": [
    "service.spreadsheets().values().clear(spreadsheetId=spreadsheet_id, \n",
    "                                      range='Лист1'+'!E2:I', \n",
    "                                      body={}).execute()\n",
    "\n",
    "service.spreadsheets().values().update(spreadsheetId=spreadsheet_id, range='Лист1'+'!E2:I', \n",
    "                                       valueInputOption='USER_ENTERED', \n",
    "                                       body=body).execute()\n",
    "\n",
    "print('https://docs.google.com/spreadsheets/d/1eVfRLLTEfUfTlJrnXZYZfRSiWZYWtOQ7A4sUO68PMvg/edit#gid=0')\n",
    "\n",
    "print('Google Data Studio report template: https://datastudio.google.com/reporting/a1cbd283-a91a-45b2-bc91-b6d17fe88d5a')"
   ]
  },
  {
   "cell_type": "markdown",
   "metadata": {},
   "source": [
    "#### Data source and dashboard template"
   ]
  },
  {
   "cell_type": "markdown",
   "metadata": {},
   "source": [
    "Spread sheet using as a data source for Google Data Studio dashboard template: \n",
    "* https://docs.google.com/spreadsheets/d/1eVfRLLTEfUfTlJrnXZYZfRSiWZYWtOQ7A4sUO68PMvg/edit#gid=0\n",
    "\n",
    "Google Data Studio report template: \n",
    "* https://datastudio.google.com/reporting/a1cbd283-a91a-45b2-bc91-b6d17fe88d5a"
   ]
  }
 ],
 "metadata": {
  "kernelspec": {
   "display_name": "Python 3 (ipykernel)",
   "language": "python",
   "name": "python3"
  },
  "language_info": {
   "codemirror_mode": {
    "name": "ipython",
    "version": 3
   },
   "file_extension": ".py",
   "mimetype": "text/x-python",
   "name": "python",
   "nbconvert_exporter": "python",
   "pygments_lexer": "ipython3",
   "version": "3.9.7"
  }
 },
 "nbformat": 4,
 "nbformat_minor": 2
}
